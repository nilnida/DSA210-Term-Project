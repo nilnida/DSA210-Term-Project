{
  "nbformat": 4,
  "nbformat_minor": 0,
  "metadata": {
    "colab": {
      "provenance": [],
      "authorship_tag": "ABX9TyNYBGmn1pW2p8/q7v2D7NVe"
    },
    "kernelspec": {
      "name": "python3",
      "display_name": "Python 3"
    },
    "language_info": {
      "name": "python"
    }
  },
  "cells": [
    {
      "cell_type": "markdown",
      "source": [
        "# Data Processing"
      ],
      "metadata": {
        "id": "Xb1xyDY_QixJ"
      }
    },
    {
      "cell_type": "code",
      "source": [
        "from google.colab import drive\n",
        "drive.mount('/content/drive')\n",
        "\n",
        "import scipy.io\n",
        "import numpy as np\n",
        "import pandas as pd"
      ],
      "metadata": {
        "colab": {
          "base_uri": "https://localhost:8080/"
        },
        "id": "mfDh3qQxrePV",
        "outputId": "cc2b2001-5d0d-4fd1-b54b-d5a89e78a79d"
      },
      "execution_count": 9,
      "outputs": [
        {
          "output_type": "stream",
          "name": "stdout",
          "text": [
            "Drive already mounted at /content/drive; to attempt to forcibly remount, call drive.mount(\"/content/drive\", force_remount=True).\n"
          ]
        }
      ]
    },
    {
      "cell_type": "markdown",
      "source": [
        "## Charging, Discharging and Impedance Data over Cycles"
      ],
      "metadata": {
        "id": "jSdpTCnMP5R4"
      }
    },
    {
      "cell_type": "markdown",
      "source": [
        "This data has been taken from a Matlab file exported from my Drive folder and seperated based on cycle types. Then, each data frame has been saved to corresponding csv files in the same folder that they were taken."
      ],
      "metadata": {
        "id": "d4ULSu5OQ1k3"
      }
    },
    {
      "cell_type": "code",
      "source": [
        "file_path1 = \"/content/drive/MyDrive/dsa210/battery_dataset/B0005.mat\"\n",
        "\n",
        "mat_data = scipy.io.loadmat(file_path1)\n",
        "b0005 = mat_data['B0005']\n",
        "cycle_struct = b0005[0, 0]['cycle']\n",
        "\n",
        "charge_records_B0005 = []\n",
        "discharge_records_B0005 = []\n",
        "impedance_records_B0005 = []\n",
        "\n",
        "for i in range(cycle_struct.shape[1]):\n",
        "  cycle = cycle_struct[0, i]\n",
        "  cycle_type = cycle['type'][0]\n",
        "  amb_temp = cycle['ambient_temperature'].flatten()[0]\n",
        "  data = cycle['data']\n",
        "\n",
        "  if cycle_type == \"charge\":\n",
        "    voltage = data['Voltage_measured'][0, 0].flatten()\n",
        "    current = data['Current_measured'][0, 0].flatten()\n",
        "    temperature = data['Temperature_measured'][0, 0].flatten()\n",
        "    current_charge = data['Current_charge'][0, 0].flatten()\n",
        "    voltage_charge = data['Voltage_charge'][0, 0].flatten()\n",
        "    time = data['Time'][0, 0].flatten()\n",
        "\n",
        "    for j in range(len(voltage)):\n",
        "      charge_records_B0005.append({\n",
        "        \"Cycle index\": i+1,\n",
        "        \"Ambient temperature (°C)\": amb_temp,\n",
        "        \"Time (secs)\": time[j],\n",
        "        \"Battery terminal voltage (Volts)\": voltage[j],\n",
        "        \"Battery output current (Amps)\": current[j],\n",
        "        \"Battery temperature (°C)\": temperature[j],\n",
        "        \"Current measured at charger (Amps)\": current_charge[j],\n",
        "        \"Voltage measured at charger (Volts)\": voltage_charge[j]\n",
        "      })\n",
        "\n",
        "  elif cycle_type == \"discharge\":\n",
        "    voltage = data['Voltage_measured'][0, 0].flatten()\n",
        "    current = data['Current_measured'][0, 0].flatten()\n",
        "    temperature = data['Temperature_measured'][0, 0].flatten()\n",
        "    current_load = data['Current_load'][0, 0].flatten()\n",
        "    voltage_load = data['Voltage_load'][0, 0].flatten()\n",
        "    time = data['Time'][0, 0].flatten()\n",
        "    capacity = data['Capacity'][0, 0].flatten()[0]\n",
        "\n",
        "    for j in range(len(voltage)):\n",
        "      discharge_records_B0005.append({\n",
        "        \"Cycle index\": i+1,\n",
        "        \"Ambient temperature (°C)\": amb_temp,\n",
        "        \"Battery terminal voltage (Volts)\": voltage[j],\n",
        "        \"Battery output current (Amps)\": current[j],\n",
        "        \"Battery temperature (°C)\": temperature[j],\n",
        "        \"Current measured at load (Amps)\": current_load[j],\n",
        "        \"Voltage measured at load (Volts)\": voltage_load[j],\n",
        "        \"Time (secs)\": time[j],\n",
        "        \"Battery capacity (Ahr) for discharge till 2.7V\": capacity\n",
        "      })\n",
        "\n",
        "  elif cycle_type == \"impedance\":\n",
        "    sense_current = data['Sense_current'][0, 0].flatten()\n",
        "    battery_current = data['Battery_current'][0, 0].flatten()\n",
        "    current_ratio = data['Current_ratio'][0, 0].flatten()\n",
        "    battery_impedance = data['Battery_impedance'][0, 0].flatten()\n",
        "    rectified_impedance = data['Rectified_Impedance'][0, 0].flatten()\n",
        "    Re = data['Re'][0, 0].flatten()[0]\n",
        "    Rct = data['Rct'][0, 0].flatten()[0]\n",
        "\n",
        "    for j in range(len(sense_current)):\n",
        "      impedance_records_B0005.append({\n",
        "        \"Cycle index\": i+1,\n",
        "        \"Ambient temperature (°C)\": amb_temp,\n",
        "        \"Current in sense branch (Amps)\": sense_current[j],\n",
        "        \"Current in battery branch (Amps)\": battery_current[j],\n",
        "        \"Ratio of the above currents\": current_ratio[j],\n",
        "        \"Battery impedance (Ohms) computed from raw data\": battery_impedance[j],\n",
        "        \"Calibrated and smoothed battery impedance (Ohms)\": rectified_impedance[j] if j < len(rectified_impedance) else None,\n",
        "        \"Estimated electrolyte resistance (Ohms)\": Re,\n",
        "        \"Estimated charge transfer resistance (Ohms)\": Rct\n",
        "      })\n",
        "\n",
        "df_charge_B0005 = pd.DataFrame(charge_records_B0005)\n",
        "df_discharge_B0005 = pd.DataFrame(discharge_records_B0005)\n",
        "df_impedance_B0005 = pd.DataFrame(impedance_records_B0005)\n",
        "\n",
        "charge_output_file = \"/content/drive/MyDrive/dsa210/df_charge_B0005.csv\"\n",
        "discharge_output_file = \"/content/drive/MyDrive/dsa210/df_discharge_B0005.csv\"\n",
        "impedance_output_file = \"/content/drive/MyDrive/dsa210/df_impedance_B0005.csv\"\n",
        "\n",
        "df_charge_B0005.to_csv(charge_output_file, index=False)\n",
        "print(f\"Data has been saved to {charge_output_file}\")\n",
        "\n",
        "df_discharge_B0005.to_csv(discharge_output_file, index=False)\n",
        "print(f\"Data has been saved to {discharge_output_file}\")\n",
        "\n",
        "df_impedance_B0005.to_csv(impedance_output_file, index=False)\n",
        "print(f\"Data has been saved to {impedance_output_file}\")"
      ],
      "metadata": {
        "id": "PxtbjyB5obrS",
        "colab": {
          "base_uri": "https://localhost:8080/"
        },
        "outputId": "b4acb40f-f23d-47b2-c962-46a2708cab52"
      },
      "execution_count": 28,
      "outputs": [
        {
          "output_type": "stream",
          "name": "stdout",
          "text": [
            "Data has been saved to /content/drive/MyDrive/dsa210/df_charge_B0005.csv\n",
            "Data has been saved to /content/drive/MyDrive/dsa210/df_discharge_B0005.csv\n",
            "Data has been saved to /content/drive/MyDrive/dsa210/df_impedance_B0005.csv\n"
          ]
        }
      ]
    },
    {
      "cell_type": "code",
      "source": [
        "print(\"Charge data sample:\")\n",
        "print(df_charge_B0005.head())"
      ],
      "metadata": {
        "colab": {
          "base_uri": "https://localhost:8080/"
        },
        "id": "ttbLOt3CviK4",
        "outputId": "d4ccd5c1-2274-4310-a298-8b845d49c79f"
      },
      "execution_count": 23,
      "outputs": [
        {
          "output_type": "stream",
          "name": "stdout",
          "text": [
            "Charge data sample:\n",
            "   Cycle index  Ambient temperature (°C)  Time (secs)  \\\n",
            "0            1                        24        0.000   \n",
            "1            1                        24        2.532   \n",
            "2            1                        24        5.500   \n",
            "3            1                        24        8.344   \n",
            "4            1                        24       11.125   \n",
            "\n",
            "   Battery terminal voltage (Volts)  Battery output current (Amps)  \\\n",
            "0                          3.873017                      -0.001201   \n",
            "1                          3.479394                      -4.030268   \n",
            "2                          4.000588                       1.512731   \n",
            "3                          4.012395                       1.509063   \n",
            "4                          4.019708                       1.511318   \n",
            "\n",
            "   Battery temperature (°C)  Current measured at charger (Amps)  \\\n",
            "0                 24.655358                               0.000   \n",
            "1                 24.666480                              -4.036   \n",
            "2                 24.675394                               1.500   \n",
            "3                 24.693865                               1.500   \n",
            "4                 24.705069                               1.500   \n",
            "\n",
            "   Voltage measured at charger (Volts)  \n",
            "0                                0.003  \n",
            "1                                1.570  \n",
            "2                                4.726  \n",
            "3                                4.742  \n",
            "4                                4.753  \n"
          ]
        }
      ]
    },
    {
      "cell_type": "code",
      "source": [
        "print(\"Discharge data sample:\")\n",
        "print(df_discharge_B0005.head())"
      ],
      "metadata": {
        "colab": {
          "base_uri": "https://localhost:8080/"
        },
        "id": "i51kpzU_6XEG",
        "outputId": "739d9c9d-9e78-4ac0-f077-dd67bb3fe27a"
      },
      "execution_count": 24,
      "outputs": [
        {
          "output_type": "stream",
          "name": "stdout",
          "text": [
            "Discharge data sample:\n",
            "   Cycle index  Ambient temperature (°C)  Battery terminal voltage (Volts)  \\\n",
            "0            2                        24                          4.191492   \n",
            "1            2                        24                          4.190749   \n",
            "2            2                        24                          3.974871   \n",
            "3            2                        24                          3.951717   \n",
            "4            2                        24                          3.934352   \n",
            "\n",
            "   Battery output current (Amps)  Battery temperature (°C)  \\\n",
            "0                      -0.004902                 24.330034   \n",
            "1                      -0.001478                 24.325993   \n",
            "2                      -2.012528                 24.389085   \n",
            "3                      -2.013979                 24.544752   \n",
            "4                      -2.011144                 24.731385   \n",
            "\n",
            "   Current measured at load (Amps)  Voltage measured at load (Volts)  \\\n",
            "0                          -0.0006                             0.000   \n",
            "1                          -0.0006                             4.206   \n",
            "2                          -1.9982                             3.062   \n",
            "3                          -1.9982                             3.030   \n",
            "4                          -1.9982                             3.011   \n",
            "\n",
            "   Time (secs)  Battery capacity (Ahr) for discharge till 2.7V  \n",
            "0        0.000                                        1.856487  \n",
            "1       16.781                                        1.856487  \n",
            "2       35.703                                        1.856487  \n",
            "3       53.781                                        1.856487  \n",
            "4       71.922                                        1.856487  \n"
          ]
        }
      ]
    },
    {
      "cell_type": "code",
      "source": [
        "print(\"Impedance data sample:\")\n",
        "print(df_impedance_B0005.head())"
      ],
      "metadata": {
        "colab": {
          "base_uri": "https://localhost:8080/"
        },
        "id": "C7boCDNu6jnS",
        "outputId": "179d5ba7-5643-4944-9dc2-07e61f62e897"
      },
      "execution_count": 25,
      "outputs": [
        {
          "output_type": "stream",
          "name": "stdout",
          "text": [
            "Impedance data sample:\n",
            "   Cycle index  Ambient temperature (°C)  Current in sense branch (Amps)  \\\n",
            "0           41                        24           -1.000000+  1.000000j   \n",
            "1           41                        24          820.609497- 36.234550j   \n",
            "2           41                        24          827.242188- 48.231228j   \n",
            "3           41                        24          827.193481- 56.195717j   \n",
            "4           41                        24          824.929504- 53.241478j   \n",
            "\n",
            "   Current in battery branch (Amps)  Ratio of the above currents  \\\n",
            "0             -1.000000+  1.000000j           1.000000+0.000000j   \n",
            "1            337.091461- 82.920776j           2.320415+0.463305j   \n",
            "2            330.631561- 70.013718j           2.424193+0.367465j   \n",
            "3            330.808624- 61.734425j           2.447002+0.286778j   \n",
            "4            332.682678- 57.629013j           2.434305+0.261646j   \n",
            "\n",
            "   Battery impedance (Ohms) computed from raw data  \\\n",
            "0                              -0.438926-0.107298j   \n",
            "1                               0.130088-0.197115j   \n",
            "2                               0.058771+0.033307j   \n",
            "3                               0.005814-0.060547j   \n",
            "4                               0.126081-0.090444j   \n",
            "\n",
            "   Calibrated and smoothed battery impedance (Ohms)  \\\n",
            "0                                0.070069-0.000480j   \n",
            "1                                0.068179-0.001190j   \n",
            "2                                0.067933-0.000057j   \n",
            "3                                0.066918-0.000879j   \n",
            "4                                0.068071-0.000197j   \n",
            "\n",
            "   Estimated electrolyte resistance (Ohms)  \\\n",
            "0                                 0.044669   \n",
            "1                                 0.044669   \n",
            "2                                 0.044669   \n",
            "3                                 0.044669   \n",
            "4                                 0.044669   \n",
            "\n",
            "   Estimated charge transfer resistance (Ohms)  \n",
            "0                                     0.069456  \n",
            "1                                     0.069456  \n",
            "2                                     0.069456  \n",
            "3                                     0.069456  \n",
            "4                                     0.069456  \n"
          ]
        }
      ]
    },
    {
      "cell_type": "markdown",
      "source": [
        "## Remaining Useful Life Data over Cycles"
      ],
      "metadata": {
        "id": "u2Gzpg45SDQl"
      }
    },
    {
      "cell_type": "code",
      "source": [
        "file_path2 = '/content/drive/MyDrive/dsa210/battery_RUL.csv'\n",
        "df = pd.read_csv(file_path2)\n",
        "\n",
        "print(df.head())"
      ],
      "metadata": {
        "id": "YnhG4uhA6wCW",
        "colab": {
          "base_uri": "https://localhost:8080/"
        },
        "outputId": "6769a245-932e-47af-c56e-e05bf94e6681"
      },
      "execution_count": 15,
      "outputs": [
        {
          "output_type": "stream",
          "name": "stdout",
          "text": [
            "   Cycle_Index  Discharge Time (s)  Decrement 3.6-3.4V (s)  \\\n",
            "0          1.0             2595.30             1151.488500   \n",
            "1          2.0             7408.64             1172.512500   \n",
            "2          3.0             7393.76             1112.992000   \n",
            "3          4.0             7385.50             1080.320667   \n",
            "4          6.0            65022.75            29813.487000   \n",
            "\n",
            "   Max. Voltage Dischar. (V)  Min. Voltage Charg. (V)  Time at 4.15V (s)  \\\n",
            "0                      3.670                    3.211           5460.001   \n",
            "1                      4.246                    3.220           5508.992   \n",
            "2                      4.249                    3.224           5508.993   \n",
            "3                      4.250                    3.225           5502.016   \n",
            "4                      4.290                    3.398           5480.992   \n",
            "\n",
            "   Time constant current (s)  Charging time (s)   RUL  \n",
            "0                    6755.01           10777.82  1112  \n",
            "1                    6762.02           10500.35  1111  \n",
            "2                    6762.02           10420.38  1110  \n",
            "3                    6762.02           10322.81  1109  \n",
            "4                   53213.54           56699.65  1107  \n"
          ]
        }
      ]
    },
    {
      "cell_type": "markdown",
      "source": [
        "## Impedance Data over State of Charge of the Battery"
      ],
      "metadata": {
        "id": "Nn-kMarySXjQ"
      }
    },
    {
      "cell_type": "code",
      "source": [
        "file_path3 = '/content/drive/MyDrive/dsa210/impedance.csv'\n",
        "df = pd.read_csv(file_path3)\n",
        "\n",
        "print(df.head())"
      ],
      "metadata": {
        "colab": {
          "base_uri": "https://localhost:8080/"
        },
        "id": "gB4wAhG6DDIj",
        "outputId": "211fbf43-28cc-487d-ebf0-6e7a76412b5a"
      },
      "execution_count": 26,
      "outputs": [
        {
          "output_type": "stream",
          "name": "stdout",
          "text": [
            "  MEASURE_ID  SOC  BATTERY_ID  FREQUENCY_ID  \\\n",
            "0       02_4  100           2             0   \n",
            "1       02_4   90           2             0   \n",
            "2       02_4   80           2             0   \n",
            "3       02_4   70           2             0   \n",
            "4       02_4   60           2             0   \n",
            "\n",
            "                            IMPEDANCE_VALUE  \n",
            "0  (0.110973570048518-0.00547305228273139j)  \n",
            "1   (0.10776687163617-0.00597670185700764j)  \n",
            "2   (0.107165211026746-0.0063320957096541j)  \n",
            "3  (0.106558961363241-0.00648856565733705j)  \n",
            "4  (0.106086309875063-0.00559046370050435j)  \n"
          ]
        }
      ]
    }
  ]
}